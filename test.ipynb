{
 "cells": [
  {
   "cell_type": "markdown",
   "metadata": {},
   "source": [
    "#Creates Dataset.CSV"
   ]
  },
  {
   "cell_type": "code",
   "execution_count": null,
   "metadata": {},
   "outputs": [],
   "source": [
    "import os\n",
    "from PIL import Image #pip install pillow\n",
    "\n",
    "directory = r'dataset/'\n",
    "new_csv_name = 'dataset.csv'\n",
    "new_csv = open(new_csv_name, 'w')\n",
    "new_csv.write('filename,width,height,class,xmin,ymin,xmax,ymax,image_id\\n')\n",
    "new_csv.close()\n",
    "col = ['filename', 'width', 'height', 'class', 'xmin', 'ymin', 'xmax', 'ymax', 'image_id']\n",
    "to_append = ['filename', 'width', 'height', 'License', 'xmin', 'ymin', 'xmax', 'ymax', 'image_id']\n",
    "row = 0\n",
    "for image in os.listdir(directory):\n",
    "    to_append[0] = image\n",
    "    if os.path.isfile(os.path.join(directory, image)):\n",
    "        img = Image.open(directory + image)\n",
    "        to_append[1] = img.width\n",
    "        to_append[2] = img.height\n",
    "        txt = open(directory + 'Label/' + image[0:-4] + '.txt', 'r')\n",
    "        box = []\n",
    "        for line in txt:\n",
    "            number = False\n",
    "            rec = ''\n",
    "            for i in line:\n",
    "                try:\n",
    "                   int(i)\n",
    "                   number = True\n",
    "                   rec += i\n",
    "                except ValueError:\n",
    "                    if not(i == '.') and number:\n",
    "                        number = False\n",
    "                        box.append(float(rec))\n",
    "                        rec = ''\n",
    "                    elif number:\n",
    "                        rec += i\n",
    "            to_append[8] = row\n",
    "            row += 1\n",
    "            new_row = ''\n",
    "            for i in range(4):\n",
    "                to_append[4] = box[0]\n",
    "                to_append[5] = box[1]\n",
    "                to_append[6] = box[2]\n",
    "                to_append[7] = box[3]\n",
    "            for i in range(9):\n",
    "                new_row += str(to_append[i]) + ','\n",
    "            csv_open = open(new_csv_name, 'a')\n",
    "            csv_open.write(new_row[0:-1] + '\\n')\n",
    "            csv_open.close()\n",
    "        txt.close()\n",
    "        inpu = input(\"next\\n\")\n",
    "\n"
   ]
  },
  {
   "cell_type": "markdown",
   "metadata": {},
   "source": [
    "Runs the Model"
   ]
  },
  {
   "cell_type": "code",
   "execution_count": 3,
   "metadata": {},
   "outputs": [
    {
     "name": "stderr",
     "output_type": "stream",
     "text": [
      "c:\\Users\\commo\\AppData\\Local\\Programs\\Python\\Python310\\lib\\site-packages\\torchvision\\models\\_utils.py:208: UserWarning: The parameter 'pretrained' is deprecated since 0.13 and will be removed in 0.15, please use 'weights' instead.\n",
      "  warnings.warn(\n",
      "c:\\Users\\commo\\AppData\\Local\\Programs\\Python\\Python310\\lib\\site-packages\\torchvision\\models\\_utils.py:223: UserWarning: Arguments other than a weight enum or `None` for 'weights' are deprecated since 0.13 and will be removed in 0.15. The current behavior is equivalent to passing `weights=FasterRCNN_ResNet50_FPN_Weights.COCO_V1`. You can also use `weights=FasterRCNN_ResNet50_FPN_Weights.DEFAULT` to get the most up-to-date weights.\n",
      "  warnings.warn(msg)\n"
     ]
    },
    {
     "name": "stdout",
     "output_type": "stream",
     "text": [
      "Epoch 1 of 1\n",
      "Begin iterating over training dataset\n"
     ]
    },
    {
     "name": "stderr",
     "output_type": "stream",
     "text": [
      "100%|██████████| 465/465 [01:18<00:00,  5.91it/s]\n"
     ]
    }
   ],
   "source": [
    "from detecto.core import Model, Dataset\n",
    "from detecto import utils, visualize\n",
    "\n",
    "dataset = Dataset('dataset.csv', 'dataset/')\n",
    "val_dataset = Dataset('val_dataset.csv', 'dataset/')\n",
    "model = Model(['License'])\n",
    "model.fit(dataset, epochs = 1, learning_rate = .01)\n",
    "model.save('LibreALPR_1.0.pth')\n",
    "\n"
   ]
  },
  {
   "cell_type": "markdown",
   "metadata": {},
   "source": [
    "Tests the Model"
   ]
  },
  {
   "cell_type": "code",
   "execution_count": null,
   "metadata": {},
   "outputs": [],
   "source": [
    "import os\n",
    "\n",
    "directory = 'dataset/'\n",
    "\n",
    "for image in os.listdir(directory):\n",
    "    \n",
    "    imagepath = image\n",
    "\n",
    "    current_image = directory + image\n",
    "\n",
    "    read_image = utils.read_image(current_image)\n",
    "\n",
    "    labels, boxes, scores = model.predict(read_image)\n",
    "\n",
    "    predictions = model.predict_top(read_image)\n",
    "\n",
    "    print(labels, boxes, scores)\n",
    "\n",
    "    print(predictions)\n",
    "\n",
    "    visualize.show_labeled_image(read_image, boxes, labels)"
   ]
  }
 ],
 "metadata": {
  "kernelspec": {
   "display_name": "Python 3.10.8 64-bit",
   "language": "python",
   "name": "python3"
  },
  "language_info": {
   "codemirror_mode": {
    "name": "ipython",
    "version": 3
   },
   "file_extension": ".py",
   "mimetype": "text/x-python",
   "name": "python",
   "nbconvert_exporter": "python",
   "pygments_lexer": "ipython3",
   "version": "3.10.8"
  },
  "orig_nbformat": 4,
  "vscode": {
   "interpreter": {
    "hash": "f26fb8f1cc4af4fdab25dcb6e8ce33ad2ab890528954ea2c4dba7f2d5f34f9bb"
   }
  }
 },
 "nbformat": 4,
 "nbformat_minor": 2
}
